{
  "nbformat": 4,
  "nbformat_minor": 0,
  "metadata": {
    "colab": {
      "provenance": []
    },
    "kernelspec": {
      "name": "python3",
      "display_name": "Python 3"
    },
    "language_info": {
      "name": "python"
    }
  },
  "cells": [
    {
      "cell_type": "code",
      "source": [
        "!pip install pgmpy --upgrade  # Update pgmpy to the latest version. Sometimes 'BayesianModel' moves between versions\n",
        "from pgmpy.models import DiscreteBayesianNetwork # Use DiscreteBayesianNetwork instead of BayesianNetwork\n",
        "# %%\n",
        "cancer_model = DiscreteBayesianNetwork([('Pollution','Cancer'),('Smoker','Cancer'),('Cancer','Xray'),('Cancer','Dyspnoea')]) # Replace BayesianNetwork with DiscreteBayesianNetwork"
      ],
      "metadata": {
        "colab": {
          "base_uri": "https://localhost:8080/"
        },
        "id": "UO45C-wHq0ck",
        "outputId": "2ee11f54-26c0-44e3-bd8f-2e8ad982740f"
      },
      "execution_count": null,
      "outputs": [
        {
          "output_type": "stream",
          "name": "stdout",
          "text": [
            "Collecting pgmpy\n",
            "  Using cached pgmpy-1.0.0-py3-none-any.whl.metadata (9.4 kB)\n",
            "Requirement already satisfied: networkx in /usr/local/lib/python3.11/dist-packages (from pgmpy) (3.4.2)\n",
            "Requirement already satisfied: numpy in /usr/local/lib/python3.11/dist-packages (from pgmpy) (2.0.2)\n",
            "Requirement already satisfied: scipy in /usr/local/lib/python3.11/dist-packages (from pgmpy) (1.14.1)\n",
            "Requirement already satisfied: scikit-learn in /usr/local/lib/python3.11/dist-packages (from pgmpy) (1.6.1)\n",
            "Requirement already satisfied: pandas in /usr/local/lib/python3.11/dist-packages (from pgmpy) (2.2.2)\n",
            "Requirement already satisfied: torch in /usr/local/lib/python3.11/dist-packages (from pgmpy) (2.6.0+cu124)\n",
            "Requirement already satisfied: statsmodels in /usr/local/lib/python3.11/dist-packages (from pgmpy) (0.14.4)\n",
            "Requirement already satisfied: tqdm in /usr/local/lib/python3.11/dist-packages (from pgmpy) (4.67.1)\n",
            "Requirement already satisfied: joblib in /usr/local/lib/python3.11/dist-packages (from pgmpy) (1.4.2)\n",
            "Requirement already satisfied: opt-einsum in /usr/local/lib/python3.11/dist-packages (from pgmpy) (3.4.0)\n",
            "Requirement already satisfied: pyro-ppl in /usr/local/lib/python3.11/dist-packages (from pgmpy) (1.9.1)\n",
            "Requirement already satisfied: python-dateutil>=2.8.2 in /usr/local/lib/python3.11/dist-packages (from pandas->pgmpy) (2.8.2)\n",
            "Requirement already satisfied: pytz>=2020.1 in /usr/local/lib/python3.11/dist-packages (from pandas->pgmpy) (2025.2)\n",
            "Requirement already satisfied: tzdata>=2022.7 in /usr/local/lib/python3.11/dist-packages (from pandas->pgmpy) (2025.2)\n",
            "Requirement already satisfied: pyro-api>=0.1.1 in /usr/local/lib/python3.11/dist-packages (from pyro-ppl->pgmpy) (0.1.2)\n",
            "Requirement already satisfied: filelock in /usr/local/lib/python3.11/dist-packages (from torch->pgmpy) (3.18.0)\n",
            "Requirement already satisfied: typing-extensions>=4.10.0 in /usr/local/lib/python3.11/dist-packages (from torch->pgmpy) (4.13.0)\n",
            "Requirement already satisfied: jinja2 in /usr/local/lib/python3.11/dist-packages (from torch->pgmpy) (3.1.6)\n",
            "Requirement already satisfied: fsspec in /usr/local/lib/python3.11/dist-packages (from torch->pgmpy) (2025.3.0)\n",
            "Requirement already satisfied: nvidia-cuda-nvrtc-cu12==12.4.127 in /usr/local/lib/python3.11/dist-packages (from torch->pgmpy) (12.4.127)\n",
            "Requirement already satisfied: nvidia-cuda-runtime-cu12==12.4.127 in /usr/local/lib/python3.11/dist-packages (from torch->pgmpy) (12.4.127)\n",
            "Requirement already satisfied: nvidia-cuda-cupti-cu12==12.4.127 in /usr/local/lib/python3.11/dist-packages (from torch->pgmpy) (12.4.127)\n",
            "Requirement already satisfied: nvidia-cudnn-cu12==9.1.0.70 in /usr/local/lib/python3.11/dist-packages (from torch->pgmpy) (9.1.0.70)\n",
            "Requirement already satisfied: nvidia-cublas-cu12==12.4.5.8 in /usr/local/lib/python3.11/dist-packages (from torch->pgmpy) (12.4.5.8)\n",
            "Requirement already satisfied: nvidia-cufft-cu12==11.2.1.3 in /usr/local/lib/python3.11/dist-packages (from torch->pgmpy) (11.2.1.3)\n",
            "Requirement already satisfied: nvidia-curand-cu12==10.3.5.147 in /usr/local/lib/python3.11/dist-packages (from torch->pgmpy) (10.3.5.147)\n",
            "Requirement already satisfied: nvidia-cusolver-cu12==11.6.1.9 in /usr/local/lib/python3.11/dist-packages (from torch->pgmpy) (11.6.1.9)\n",
            "Requirement already satisfied: nvidia-cusparse-cu12==12.3.1.170 in /usr/local/lib/python3.11/dist-packages (from torch->pgmpy) (12.3.1.170)\n",
            "Requirement already satisfied: nvidia-cusparselt-cu12==0.6.2 in /usr/local/lib/python3.11/dist-packages (from torch->pgmpy) (0.6.2)\n",
            "Requirement already satisfied: nvidia-nccl-cu12==2.21.5 in /usr/local/lib/python3.11/dist-packages (from torch->pgmpy) (2.21.5)\n",
            "Requirement already satisfied: nvidia-nvtx-cu12==12.4.127 in /usr/local/lib/python3.11/dist-packages (from torch->pgmpy) (12.4.127)\n",
            "Requirement already satisfied: nvidia-nvjitlink-cu12==12.4.127 in /usr/local/lib/python3.11/dist-packages (from torch->pgmpy) (12.4.127)\n",
            "Requirement already satisfied: triton==3.2.0 in /usr/local/lib/python3.11/dist-packages (from torch->pgmpy) (3.2.0)\n",
            "Requirement already satisfied: sympy==1.13.1 in /usr/local/lib/python3.11/dist-packages (from torch->pgmpy) (1.13.1)\n",
            "Requirement already satisfied: mpmath<1.4,>=1.1.0 in /usr/local/lib/python3.11/dist-packages (from sympy==1.13.1->torch->pgmpy) (1.3.0)\n",
            "Requirement already satisfied: threadpoolctl>=3.1.0 in /usr/local/lib/python3.11/dist-packages (from scikit-learn->pgmpy) (3.6.0)\n",
            "Requirement already satisfied: patsy>=0.5.6 in /usr/local/lib/python3.11/dist-packages (from statsmodels->pgmpy) (1.0.1)\n",
            "Requirement already satisfied: packaging>=21.3 in /usr/local/lib/python3.11/dist-packages (from statsmodels->pgmpy) (24.2)\n",
            "Requirement already satisfied: six>=1.5 in /usr/local/lib/python3.11/dist-packages (from python-dateutil>=2.8.2->pandas->pgmpy) (1.17.0)\n",
            "Requirement already satisfied: MarkupSafe>=2.0 in /usr/local/lib/python3.11/dist-packages (from jinja2->torch->pgmpy) (3.0.2)\n",
            "Using cached pgmpy-1.0.0-py3-none-any.whl (2.0 MB)\n",
            "Installing collected packages: pgmpy\n",
            "Successfully installed pgmpy-1.0.0\n"
          ]
        }
      ]
    },
    {
      "cell_type": "code",
      "source": [
        "print(cancer_model)"
      ],
      "metadata": {
        "colab": {
          "base_uri": "https://localhost:8080/"
        },
        "id": "8P1TLKa1rA_4",
        "outputId": "4fe64d2a-e7ab-46b4-8e8f-99ef92e39312"
      },
      "execution_count": null,
      "outputs": [
        {
          "output_type": "stream",
          "name": "stdout",
          "text": [
            "DiscreteBayesianNetwork with 5 nodes and 4 edges\n"
          ]
        }
      ]
    },
    {
      "cell_type": "code",
      "source": [
        "cancer_model.nodes()"
      ],
      "metadata": {
        "colab": {
          "base_uri": "https://localhost:8080/"
        },
        "id": "f8DhOq-hrfP1",
        "outputId": "60616da7-9021-41c2-941d-8a1ba53b9bf5"
      },
      "execution_count": null,
      "outputs": [
        {
          "output_type": "execute_result",
          "data": {
            "text/plain": [
              "NodeView(('Pollution', 'Cancer', 'Smoker', 'Xray', 'Dyspnoea'))"
            ]
          },
          "metadata": {},
          "execution_count": 4
        }
      ]
    },
    {
      "cell_type": "code",
      "source": [
        "cancer_model.edges()"
      ],
      "metadata": {
        "colab": {
          "base_uri": "https://localhost:8080/"
        },
        "id": "zM6dgHeWrjbB",
        "outputId": "7e59459c-1275-4f94-fa38-a75f7aad458d"
      },
      "execution_count": null,
      "outputs": [
        {
          "output_type": "execute_result",
          "data": {
            "text/plain": [
              "OutEdgeView([('Pollution', 'Cancer'), ('Cancer', 'Xray'), ('Cancer', 'Dyspnoea'), ('Smoker', 'Cancer')])"
            ]
          },
          "metadata": {},
          "execution_count": 5
        }
      ]
    },
    {
      "cell_type": "code",
      "source": [
        "cancer_model.get_cpds()\n",
        "#conditional probabilities"
      ],
      "metadata": {
        "colab": {
          "base_uri": "https://localhost:8080/"
        },
        "id": "Hn2K_dD-rnGT",
        "outputId": "7c9b0d53-eb08-49d6-dc23-2397093029d9"
      },
      "execution_count": null,
      "outputs": [
        {
          "output_type": "execute_result",
          "data": {
            "text/plain": [
              "[]"
            ]
          },
          "metadata": {},
          "execution_count": 6
        }
      ]
    },
    {
      "cell_type": "code",
      "source": [
        "#creation of cond prob table\n",
        "\n",
        "from pgmpy.factors.discrete import TabularCPD  #cond probab density\n",
        "#2 values are passed means 0.9 will be prob when pollution will be high and for low the value is 0.1\n",
        "cpd_poll = TabularCPD(variable='Pollution',variable_card=2,values=[[0.1],[0.9]])\n",
        "cpd_smoke = TabularCPD(variable='Smoker',variable_card=2,values=[[0.3],[0.7]])\n",
        "cpd_cancer=TabularCPD(variable='Cancer',variable_card=2,values=[[0.97,0.95,0.001,0.02],[0.03,0.05,0.999,0.98]],\n",
        "                      evidence=['Smoker','Pollution'],\n",
        "                      evidence_card=[2,2])\n",
        "cpd_xray=TabularCPD(variable='Xray',variable_card=2,values=[[0.9,0.2],[0.1,0.8]],\n",
        "                      evidence=['Cancer'],\n",
        "                      evidence_card=[2])\n",
        "cpd_dysp=TabularCPD(variable='Dyspnoea',variable_card=2,values=[[0.65,0.3],[0.35,0.7]],\n",
        "                      evidence=['Cancer'],\n",
        "                      evidence_card=[2])\n"
      ],
      "metadata": {
        "id": "3KA5_KgPr3YE"
      },
      "execution_count": null,
      "outputs": []
    },
    {
      "cell_type": "code",
      "source": [
        "cancer_model.add_cpds(cpd_poll,cpd_smoke,cpd_cancer,cpd_xray,cpd_dysp)\n",
        "cancer_model.check_model()"
      ],
      "metadata": {
        "colab": {
          "base_uri": "https://localhost:8080/"
        },
        "id": "oyHTeuifySX9",
        "outputId": "da475228-be0c-4722-a6bc-cecda96c2991"
      },
      "execution_count": null,
      "outputs": [
        {
          "output_type": "execute_result",
          "data": {
            "text/plain": [
              "True"
            ]
          },
          "metadata": {},
          "execution_count": 8
        }
      ]
    },
    {
      "cell_type": "code",
      "source": [
        "#cancer_model.is_active_trail('Pollution','Smoker')\n",
        "!pip install pgmpy --upgrade\n",
        "from pgmpy.models import DiscreteBayesianNetwork\n",
        "from pgmpy.inference import CausalInference\n",
        "\n",
        "# ... (your existing code for creating and defining cancer_model) ...\n",
        "\n",
        "# Create a CausalInference object\n",
        "infer = CausalInference(cancer_model)\n",
        "\n",
        "# Check for d-separation using the is_d_separated method (if available)\n",
        "# Or, try using other inference methods like query for conditional independence\n",
        "try:\n",
        "    are_d_separated = infer.is_d_separated(\"Pollution\", \"Smoker\", {})  # Check for is_d_separated method\n",
        "except AttributeError:\n",
        "    # If is_d_separated is not available, consider using other inference methods\n",
        "    # For example, to check for conditional independence:\n",
        "    # result = infer.query(['Pollution'], evidence={'Smoker': 0})  # Query for Pollution given Smoker=0\n",
        "    # You can then analyze the result to determine conditional independence\n",
        "    print(\"d-separation check not directly supported. Consider using other inference methods.\")\n",
        "    are_d_separated = None  # Or handle the case as needed\n",
        "\n",
        "# Print the result\n",
        "print(f\"'Pollution' and 'Smoker' are d-separated: {are_d_separated}\")"
      ],
      "metadata": {
        "colab": {
          "base_uri": "https://localhost:8080/"
        },
        "id": "eUhcRm5AyWjE",
        "outputId": "7480e2e0-2242-4a81-e851-dbd2df8029ad"
      },
      "execution_count": null,
      "outputs": [
        {
          "output_type": "stream",
          "name": "stdout",
          "text": [
            "Requirement already satisfied: pgmpy in /usr/local/lib/python3.11/dist-packages (1.0.0)\n",
            "Requirement already satisfied: networkx in /usr/local/lib/python3.11/dist-packages (from pgmpy) (3.4.2)\n",
            "Requirement already satisfied: numpy in /usr/local/lib/python3.11/dist-packages (from pgmpy) (2.0.2)\n",
            "Requirement already satisfied: scipy in /usr/local/lib/python3.11/dist-packages (from pgmpy) (1.14.1)\n",
            "Requirement already satisfied: scikit-learn in /usr/local/lib/python3.11/dist-packages (from pgmpy) (1.6.1)\n",
            "Requirement already satisfied: pandas in /usr/local/lib/python3.11/dist-packages (from pgmpy) (2.2.2)\n",
            "Requirement already satisfied: torch in /usr/local/lib/python3.11/dist-packages (from pgmpy) (2.6.0+cu124)\n",
            "Requirement already satisfied: statsmodels in /usr/local/lib/python3.11/dist-packages (from pgmpy) (0.14.4)\n",
            "Requirement already satisfied: tqdm in /usr/local/lib/python3.11/dist-packages (from pgmpy) (4.67.1)\n",
            "Requirement already satisfied: joblib in /usr/local/lib/python3.11/dist-packages (from pgmpy) (1.4.2)\n",
            "Requirement already satisfied: opt-einsum in /usr/local/lib/python3.11/dist-packages (from pgmpy) (3.4.0)\n",
            "Requirement already satisfied: pyro-ppl in /usr/local/lib/python3.11/dist-packages (from pgmpy) (1.9.1)\n",
            "Requirement already satisfied: python-dateutil>=2.8.2 in /usr/local/lib/python3.11/dist-packages (from pandas->pgmpy) (2.8.2)\n",
            "Requirement already satisfied: pytz>=2020.1 in /usr/local/lib/python3.11/dist-packages (from pandas->pgmpy) (2025.2)\n",
            "Requirement already satisfied: tzdata>=2022.7 in /usr/local/lib/python3.11/dist-packages (from pandas->pgmpy) (2025.2)\n",
            "Requirement already satisfied: pyro-api>=0.1.1 in /usr/local/lib/python3.11/dist-packages (from pyro-ppl->pgmpy) (0.1.2)\n",
            "Requirement already satisfied: filelock in /usr/local/lib/python3.11/dist-packages (from torch->pgmpy) (3.18.0)\n",
            "Requirement already satisfied: typing-extensions>=4.10.0 in /usr/local/lib/python3.11/dist-packages (from torch->pgmpy) (4.13.0)\n",
            "Requirement already satisfied: jinja2 in /usr/local/lib/python3.11/dist-packages (from torch->pgmpy) (3.1.6)\n",
            "Requirement already satisfied: fsspec in /usr/local/lib/python3.11/dist-packages (from torch->pgmpy) (2025.3.0)\n",
            "Requirement already satisfied: nvidia-cuda-nvrtc-cu12==12.4.127 in /usr/local/lib/python3.11/dist-packages (from torch->pgmpy) (12.4.127)\n",
            "Requirement already satisfied: nvidia-cuda-runtime-cu12==12.4.127 in /usr/local/lib/python3.11/dist-packages (from torch->pgmpy) (12.4.127)\n",
            "Requirement already satisfied: nvidia-cuda-cupti-cu12==12.4.127 in /usr/local/lib/python3.11/dist-packages (from torch->pgmpy) (12.4.127)\n",
            "Requirement already satisfied: nvidia-cudnn-cu12==9.1.0.70 in /usr/local/lib/python3.11/dist-packages (from torch->pgmpy) (9.1.0.70)\n",
            "Requirement already satisfied: nvidia-cublas-cu12==12.4.5.8 in /usr/local/lib/python3.11/dist-packages (from torch->pgmpy) (12.4.5.8)\n",
            "Requirement already satisfied: nvidia-cufft-cu12==11.2.1.3 in /usr/local/lib/python3.11/dist-packages (from torch->pgmpy) (11.2.1.3)\n",
            "Requirement already satisfied: nvidia-curand-cu12==10.3.5.147 in /usr/local/lib/python3.11/dist-packages (from torch->pgmpy) (10.3.5.147)\n",
            "Requirement already satisfied: nvidia-cusolver-cu12==11.6.1.9 in /usr/local/lib/python3.11/dist-packages (from torch->pgmpy) (11.6.1.9)\n",
            "Requirement already satisfied: nvidia-cusparse-cu12==12.3.1.170 in /usr/local/lib/python3.11/dist-packages (from torch->pgmpy) (12.3.1.170)\n",
            "Requirement already satisfied: nvidia-cusparselt-cu12==0.6.2 in /usr/local/lib/python3.11/dist-packages (from torch->pgmpy) (0.6.2)\n",
            "Requirement already satisfied: nvidia-nccl-cu12==2.21.5 in /usr/local/lib/python3.11/dist-packages (from torch->pgmpy) (2.21.5)\n",
            "Requirement already satisfied: nvidia-nvtx-cu12==12.4.127 in /usr/local/lib/python3.11/dist-packages (from torch->pgmpy) (12.4.127)\n",
            "Requirement already satisfied: nvidia-nvjitlink-cu12==12.4.127 in /usr/local/lib/python3.11/dist-packages (from torch->pgmpy) (12.4.127)\n",
            "Requirement already satisfied: triton==3.2.0 in /usr/local/lib/python3.11/dist-packages (from torch->pgmpy) (3.2.0)\n",
            "Requirement already satisfied: sympy==1.13.1 in /usr/local/lib/python3.11/dist-packages (from torch->pgmpy) (1.13.1)\n",
            "Requirement already satisfied: mpmath<1.4,>=1.1.0 in /usr/local/lib/python3.11/dist-packages (from sympy==1.13.1->torch->pgmpy) (1.3.0)\n",
            "Requirement already satisfied: threadpoolctl>=3.1.0 in /usr/local/lib/python3.11/dist-packages (from scikit-learn->pgmpy) (3.6.0)\n",
            "Requirement already satisfied: patsy>=0.5.6 in /usr/local/lib/python3.11/dist-packages (from statsmodels->pgmpy) (1.0.1)\n",
            "Requirement already satisfied: packaging>=21.3 in /usr/local/lib/python3.11/dist-packages (from statsmodels->pgmpy) (24.2)\n",
            "Requirement already satisfied: six>=1.5 in /usr/local/lib/python3.11/dist-packages (from python-dateutil>=2.8.2->pandas->pgmpy) (1.17.0)\n",
            "Requirement already satisfied: MarkupSafe>=2.0 in /usr/local/lib/python3.11/dist-packages (from jinja2->torch->pgmpy) (3.0.2)\n",
            "d-separation check not directly supported. Consider using other inference methods.\n",
            "'Pollution' and 'Smoker' are d-separated: None\n"
          ]
        }
      ]
    },
    {
      "cell_type": "code",
      "source": [
        "cancer_model.get_cpds()\n",
        "print(cancer_model.get_cpds('Pollution'))\n"
      ],
      "metadata": {
        "colab": {
          "base_uri": "https://localhost:8080/"
        },
        "id": "L0TCCInwuYKV",
        "outputId": "4062ca76-1add-46cd-c5e9-ed1ee6b6829a"
      },
      "execution_count": null,
      "outputs": [
        {
          "output_type": "stream",
          "name": "stdout",
          "text": [
            "+--------------+-----+\n",
            "| Pollution(0) | 0.1 |\n",
            "+--------------+-----+\n",
            "| Pollution(1) | 0.9 |\n",
            "+--------------+-----+\n"
          ]
        }
      ]
    },
    {
      "cell_type": "code",
      "source": [
        "cancer_model.get_cpds()\n",
        "print(cancer_model.get_cpds('Cancer'))"
      ],
      "metadata": {
        "colab": {
          "base_uri": "https://localhost:8080/"
        },
        "id": "vrY1g1Pnu7bH",
        "outputId": "3135ffa4-44da-4338-a1f6-afd1ae94ef28"
      },
      "execution_count": null,
      "outputs": [
        {
          "output_type": "stream",
          "name": "stdout",
          "text": [
            "+-----------+--------------+--------------+--------------+--------------+\n",
            "| Smoker    | Smoker(0)    | Smoker(0)    | Smoker(1)    | Smoker(1)    |\n",
            "+-----------+--------------+--------------+--------------+--------------+\n",
            "| Pollution | Pollution(0) | Pollution(1) | Pollution(0) | Pollution(1) |\n",
            "+-----------+--------------+--------------+--------------+--------------+\n",
            "| Cancer(0) | 0.97         | 0.95         | 0.001        | 0.02         |\n",
            "+-----------+--------------+--------------+--------------+--------------+\n",
            "| Cancer(1) | 0.03         | 0.05         | 0.999        | 0.98         |\n",
            "+-----------+--------------+--------------+--------------+--------------+\n"
          ]
        }
      ]
    },
    {
      "cell_type": "code",
      "source": [
        "cancer_model.get_cpds()\n",
        "print(cancer_model.get_cpds('Smoker'))"
      ],
      "metadata": {
        "colab": {
          "base_uri": "https://localhost:8080/"
        },
        "id": "BXZXItgu4_p9",
        "outputId": "3da2f41c-5a1b-4c7c-bfcf-69cfdcfb7584"
      },
      "execution_count": null,
      "outputs": [
        {
          "output_type": "stream",
          "name": "stdout",
          "text": [
            "+-----------+-----+\n",
            "| Smoker(0) | 0.3 |\n",
            "+-----------+-----+\n",
            "| Smoker(1) | 0.7 |\n",
            "+-----------+-----+\n"
          ]
        }
      ]
    },
    {
      "cell_type": "code",
      "source": [
        "cancer_model.get_cpds()\n",
        "print(cancer_model.get_cpds('Xray'))"
      ],
      "metadata": {
        "colab": {
          "base_uri": "https://localhost:8080/"
        },
        "id": "g-Ic_cx35CPS",
        "outputId": "ec5c250c-2de8-4ec0-d46b-646fe7771e97"
      },
      "execution_count": null,
      "outputs": [
        {
          "output_type": "stream",
          "name": "stdout",
          "text": [
            "+---------+-----------+-----------+\n",
            "| Cancer  | Cancer(0) | Cancer(1) |\n",
            "+---------+-----------+-----------+\n",
            "| Xray(0) | 0.9       | 0.2       |\n",
            "+---------+-----------+-----------+\n",
            "| Xray(1) | 0.1       | 0.8       |\n",
            "+---------+-----------+-----------+\n"
          ]
        }
      ]
    },
    {
      "cell_type": "code",
      "source": [
        "cancer_model.get_cpds()\n",
        "print(cancer_model.get_cpds('Dyspnoea'))"
      ],
      "metadata": {
        "colab": {
          "base_uri": "https://localhost:8080/"
        },
        "id": "aO3-ZmOC5E00",
        "outputId": "5ee06054-1e91-4666-e829-999b643fb19f"
      },
      "execution_count": null,
      "outputs": [
        {
          "output_type": "stream",
          "name": "stdout",
          "text": [
            "+-------------+-----------+-----------+\n",
            "| Cancer      | Cancer(0) | Cancer(1) |\n",
            "+-------------+-----------+-----------+\n",
            "| Dyspnoea(0) | 0.65      | 0.3       |\n",
            "+-------------+-----------+-----------+\n",
            "| Dyspnoea(1) | 0.35      | 0.7       |\n",
            "+-------------+-----------+-----------+\n"
          ]
        }
      ]
    },
    {
      "cell_type": "code",
      "source": [
        "#determine local independencies meant which all are independent edges\n",
        "\n",
        "cancer_model.local_independencies('Xray')"
      ],
      "metadata": {
        "colab": {
          "base_uri": "https://localhost:8080/"
        },
        "id": "RvtFpH48zeDH",
        "outputId": "cfd718f5-7f79-482a-aa44-2d294613cd05"
      },
      "execution_count": null,
      "outputs": [
        {
          "output_type": "execute_result",
          "data": {
            "text/plain": [
              "(Xray ⟂ Dyspnoea, Smoker, Pollution | Cancer)"
            ]
          },
          "metadata": {},
          "execution_count": 15
        }
      ]
    },
    {
      "cell_type": "code",
      "source": [
        "cancer_model.local_independencies('Pollution')\n"
      ],
      "metadata": {
        "colab": {
          "base_uri": "https://localhost:8080/"
        },
        "id": "EWgC0rks1e7G",
        "outputId": "2ee82496-95a8-4047-b9aa-0a0c8df8a5f3"
      },
      "execution_count": null,
      "outputs": [
        {
          "output_type": "execute_result",
          "data": {
            "text/plain": [
              "(Pollution ⟂ Smoker)"
            ]
          },
          "metadata": {},
          "execution_count": 16
        }
      ]
    },
    {
      "cell_type": "code",
      "source": [
        "cancer_model.local_independencies('Smoker')\n"
      ],
      "metadata": {
        "colab": {
          "base_uri": "https://localhost:8080/"
        },
        "id": "f0WYGLAQ1hUx",
        "outputId": "257aa190-caf3-44ca-a980-0c7345832b03"
      },
      "execution_count": null,
      "outputs": [
        {
          "output_type": "execute_result",
          "data": {
            "text/plain": [
              "(Smoker ⟂ Pollution)"
            ]
          },
          "metadata": {},
          "execution_count": 17
        }
      ]
    },
    {
      "cell_type": "code",
      "source": [
        "cancer_model.local_independencies('Dyspnoea')\n"
      ],
      "metadata": {
        "colab": {
          "base_uri": "https://localhost:8080/"
        },
        "id": "gaV9Vbha1jgC",
        "outputId": "3a534b4a-35dc-4e53-9245-2e09cce4688e"
      },
      "execution_count": null,
      "outputs": [
        {
          "output_type": "execute_result",
          "data": {
            "text/plain": [
              "(Dyspnoea ⟂ Xray, Smoker, Pollution | Cancer)"
            ]
          },
          "metadata": {},
          "execution_count": 18
        }
      ]
    },
    {
      "cell_type": "code",
      "source": [
        "cancer_model.local_independencies('Cancer')"
      ],
      "metadata": {
        "colab": {
          "base_uri": "https://localhost:8080/"
        },
        "id": "RtsDXhNP1nXJ",
        "outputId": "ddea1ff1-95e5-4858-869c-61ed848680f5"
      },
      "execution_count": null,
      "outputs": [
        {
          "output_type": "execute_result",
          "data": {
            "text/plain": []
          },
          "metadata": {},
          "execution_count": 19
        }
      ]
    },
    {
      "cell_type": "code",
      "source": [
        "cancer_model.get_independencies()\n",
        "#taking random 6"
      ],
      "metadata": {
        "colab": {
          "base_uri": "https://localhost:8080/"
        },
        "id": "CLtrrEd51qOp",
        "outputId": "0dd04325-941e-4c7b-9d41-9bd2e06c5812"
      },
      "execution_count": null,
      "outputs": [
        {
          "output_type": "execute_result",
          "data": {
            "text/plain": [
              "(Dyspnoea ⟂ Smoker | Cancer)\n",
              "(Xray ⟂ Smoker | Cancer)\n",
              "(Pollution ⟂ Smoker)\n",
              "(Dyspnoea ⟂ Xray | Cancer)\n",
              "(Pollution ⟂ Xray | Cancer)\n",
              "(Pollution ⟂ Dyspnoea | Cancer)"
            ]
          },
          "metadata": {},
          "execution_count": 20
        }
      ]
    },
    {
      "cell_type": "code",
      "source": [
        "#konsa feature kispr dependent hai and which one is better,allows to eliminate the features/variables that are not efficient wrt model\n",
        "#Inferencing with Bayesian Network\n",
        "\n",
        "from pgmpy.inference import VariableElimination\n",
        "cancer_infer=VariableElimination(cancer_model)\n",
        "q=cancer_infer.query(variables=['Cancer'],evidence={'Smoker':1})\n",
        "print(q)\n",
        "#if the person is smoker, then the cond prob is this"
      ],
      "metadata": {
        "colab": {
          "base_uri": "https://localhost:8080/"
        },
        "id": "uB8bKYiY1y1k",
        "outputId": "d8b040c3-e4f2-4669-c073-313c13531b32"
      },
      "execution_count": null,
      "outputs": [
        {
          "output_type": "stream",
          "name": "stdout",
          "text": [
            "+-----------+---------------+\n",
            "| Cancer    |   phi(Cancer) |\n",
            "+===========+===============+\n",
            "| Cancer(0) |        0.0181 |\n",
            "+-----------+---------------+\n",
            "| Cancer(1) |        0.9819 |\n",
            "+-----------+---------------+\n"
          ]
        }
      ]
    },
    {
      "cell_type": "code",
      "source": [
        "q=cancer_infer.query(variables=['Cancer'],evidence={'Smoker': 1,'Pollution':1})\n",
        "print(q)"
      ],
      "metadata": {
        "id": "DbgbAcDi28rc",
        "colab": {
          "base_uri": "https://localhost:8080/"
        },
        "outputId": "8a124026-66ab-4dc0-a963-b4db5d5e6741"
      },
      "execution_count": null,
      "outputs": [
        {
          "output_type": "stream",
          "name": "stdout",
          "text": [
            "+-----------+---------------+\n",
            "| Cancer    |   phi(Cancer) |\n",
            "+===========+===============+\n",
            "| Cancer(0) |        0.0200 |\n",
            "+-----------+---------------+\n",
            "| Cancer(1) |        0.9800 |\n",
            "+-----------+---------------+\n"
          ]
        }
      ]
    },
    {
      "cell_type": "code",
      "source": [],
      "metadata": {
        "id": "9EOTNcpeluLq"
      },
      "execution_count": null,
      "outputs": []
    }
  ]
}